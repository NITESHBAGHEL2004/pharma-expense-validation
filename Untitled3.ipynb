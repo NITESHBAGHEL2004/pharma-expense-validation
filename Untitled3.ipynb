{
  "nbformat": 4,
  "nbformat_minor": 0,
  "metadata": {
    "colab": {
      "provenance": []
    },
    "kernelspec": {
      "name": "python3",
      "display_name": "Python 3"
    },
    "language_info": {
      "name": "python"
    }
  },
  "cells": [
    {
      "cell_type": "code",
      "execution_count": 86,
      "metadata": {
        "colab": {
          "base_uri": "https://localhost:8080/"
        },
        "id": "fREUjTP67Wcr",
        "outputId": "a4f95a2f-6a0b-40c8-f9ad-e7e9c7eac0fc"
      },
      "outputs": [
        {
          "output_type": "stream",
          "name": "stdout",
          "text": [
            "Reading package lists... Done\n",
            "Building dependency tree... Done\n",
            "Reading state information... Done\n",
            "tesseract-ocr is already the newest version (4.1.1-2.1build1).\n",
            "0 upgraded, 0 newly installed, 0 to remove and 29 not upgraded.\n",
            "Requirement already satisfied: pytesseract in /usr/local/lib/python3.11/dist-packages (0.3.13)\n",
            "Requirement already satisfied: opencv-python in /usr/local/lib/python3.11/dist-packages (4.11.0.86)\n",
            "Requirement already satisfied: numpy in /usr/local/lib/python3.11/dist-packages (2.0.2)\n",
            "\u001b[31mERROR: Could not find a version that satisfies the requirement sqlite3 (from versions: none)\u001b[0m\u001b[31m\n",
            "\u001b[0m\u001b[31mERROR: No matching distribution found for sqlite3\u001b[0m\u001b[31m\n",
            "\u001b[0mRequirement already satisfied: pymupdf in /usr/local/lib/python3.11/dist-packages (1.25.4)\n"
          ]
        }
      ],
      "source": [
        "!apt-get install -y tesseract-ocr\n",
        "!pip install pytesseract opencv-python numpy sqlite3\n",
        "!pip install pymupdf"
      ]
    },
    {
      "cell_type": "code",
      "source": [
        "import cv2\n",
        "import pytesseract\n",
        "import sqlite3\n",
        "import fitz  # PyMuPDF for PDF handling\n",
        "import hashlib\n",
        "import numpy as np\n",
        "import re\n",
        "from datetime import datetime\n",
        "from PIL import Image\n",
        "import google.colab.files as files\n"
      ],
      "metadata": {
        "id": "kHavwB1K8E-Q"
      },
      "execution_count": 113,
      "outputs": []
    },
    {
      "cell_type": "code",
      "source": [
        "def create_database():\n",
        "    conn = sqlite3.connect(\"bills.db\")\n",
        "    cursor = conn.cursor()\n",
        "    cursor.execute('''\n",
        "        CREATE TABLE IF NOT EXISTS bills (\n",
        "            id INTEGER PRIMARY KEY AUTOINCREMENT,\n",
        "            hash TEXT UNIQUE,\n",
        "            extracted_text TEXT,\n",
        "            date TEXT\n",
        "        )\n",
        "    ''')\n",
        "    conn.commit()\n",
        "    conn.close()\n"
      ],
      "metadata": {
        "id": "nKBuyEMg_equ"
      },
      "execution_count": 88,
      "outputs": []
    },
    {
      "cell_type": "code",
      "source": [
        "def preprocess_image(image_path):\n",
        "    image = cv2.imread(image_path)\n",
        "    gray = cv2.cvtColor(image, cv2.COLOR_BGR2GRAY)\n",
        "    gray = cv2.GaussianBlur(gray, (5,5), 0)\n",
        "    _, thresh = cv2.threshold(gray, 150, 255, cv2.THRESH_BINARY + cv2.THRESH_OTSU)\n",
        "    return thresh\n",
        "\n",
        "def extract_text(image_path):\n",
        "    processed_img = preprocess_image(image_path)\n",
        "    text = pytesseract.image_to_string(processed_img)\n",
        "    return text.strip()\n"
      ],
      "metadata": {
        "id": "mYgVVnbg8b2Q"
      },
      "execution_count": 89,
      "outputs": []
    },
    {
      "cell_type": "code",
      "source": [
        "def generate_hash(text):\n",
        "    return hashlib.md5(text.encode()).hexdigest()\n"
      ],
      "metadata": {
        "id": "M7eqSujT_4JI"
      },
      "execution_count": 90,
      "outputs": []
    },
    {
      "cell_type": "code",
      "source": [
        "def extract_date(image_path):\n",
        "    \"\"\"Extracts the date from the given bill image using OCR.\"\"\"\n",
        "    image = cv2.imread(image_path)\n",
        "    text = pytesseract.image_to_string(image)\n",
        "\n",
        "    # Regular expression to match common date formats (DD/MM/YYYY or YYYY-MM-DD)\n",
        "    date_patterns = [r\"\\b\\d{2}/\\d{2}/\\d{4}\\b\", r\"\\b\\d{4}-\\d{2}-\\d{2}\\b\"]\n",
        "\n",
        "    for pattern in date_patterns:\n",
        "        match = re.search(pattern, text)\n",
        "        if match:\n",
        "            return match.group()  # Return the first matched date\n",
        "\n",
        "    return None"
      ],
      "metadata": {
        "id": "mn06LqokGb1Q"
      },
      "execution_count": 91,
      "outputs": []
    },
    {
      "cell_type": "code",
      "source": [
        "def check_date_mismatch(bill_date, expense_date):\n",
        "    \"\"\"Checks if the extracted bill date matches the entered expense date.\"\"\"\n",
        "    try:\n",
        "        bill_date_obj = datetime.strptime(bill_date, \"%d/%m/%Y\")\n",
        "        expense_date_obj = datetime.strptime(expense_date, \"%d/%m/%Y\")\n",
        "\n",
        "        return bill_date_obj == expense_date_obj  # Returns True if dates match\n",
        "    except ValueError:\n",
        "        return False"
      ],
      "metadata": {
        "id": "rYeRnz1QGiFL"
      },
      "execution_count": 92,
      "outputs": []
    },
    {
      "cell_type": "markdown",
      "source": [
        "**classify**"
      ],
      "metadata": {
        "id": "bTYKtN6N25oX"
      }
    },
    {
      "cell_type": "code",
      "source": [
        "def classify_bill(text):\n",
        "    # Keywords indicating business-related expenses\n",
        "    business_keywords = ['business', 'office', 'work', 'corporate', 'meeting', 'project', 'invoice', 'tax','hostel']\n",
        "\n",
        "    # Keywords indicating personal-related expenses\n",
        "    personal_keywords = ['grocery', 'restaurant', 'vacation', 'personal', 'family', 'gift', 'shopping', 'bill']\n",
        "\n",
        "    # Convert text to lowercase to avoid case-sensitivity issues\n",
        "    text = text.lower()\n",
        "\n",
        "    # Check for business-related keywords\n",
        "    if any(keyword in text for keyword in business_keywords):\n",
        "        return 'Business'\n",
        "\n",
        "    # Check for personal-related keywords (if no business keywords were found)\n",
        "    elif any(keyword in text for keyword in personal_keywords):\n",
        "        return 'Personal'\n",
        "\n",
        "    # If no keywords match, default to 'Personal' (or you can change to 'Business')\n",
        "    else:\n",
        "        return 'Personal'"
      ],
      "metadata": {
        "id": "2r0so0CS3CFi"
      },
      "execution_count": 112,
      "outputs": []
    },
    {
      "cell_type": "code",
      "source": [
        "def store_bill(image_path, date):\n",
        "    extracted_text = extract_text(image_path)\n",
        "    bill_hash = generate_hash(extracted_text)\n",
        "    bill_date = extract_date(image_path)\n",
        "    conn = sqlite3.connect(\"bills.db\")\n",
        "    cursor = conn.cursor()\n",
        "\n",
        "    # Check if the bill already exists\n",
        "    class_bill=classify_bill(extracted_text)\n",
        "    if class_bill=='Business':\n",
        "        cursor.execute(\"SELECT * FROM bills WHERE hash=?\", (bill_hash,))\n",
        "        existing_bill = cursor.fetchone()\n",
        "        if bill_date is None:\n",
        "            print(\"⚠️ No valid date found on the bill!\")\n",
        "            return False\n",
        "        if existing_bill:\n",
        "            print(\"⚠ Duplicate bill detected! This bill is already submitted.\")\n",
        "        else:\n",
        "            if check_date_mismatch(bill_date, date):\n",
        "                cursor.execute(\"INSERT INTO bills (hash, extracted_text, date) VALUES (?, ?, ?)\", (bill_hash, extracted_text, date))\n",
        "                conn.commit()\n",
        "                print(\"✅ Bill stored successfully!\")\n",
        "            else:\n",
        "                print(\"❌ Date mismatch detected! Please check the uploaded bill.\")\n",
        "                return False\n",
        "\n",
        "    conn.close()\n"
      ],
      "metadata": {
        "id": "Ilh9Masb_-z3"
      },
      "execution_count": 106,
      "outputs": []
    },
    {
      "cell_type": "markdown",
      "source": [
        "pdf bills"
      ],
      "metadata": {
        "id": "c829KOaBRHqV"
      }
    },
    {
      "cell_type": "code",
      "source": [
        "def extract_text_from_pdf(pdf_path):\n",
        "    \"\"\"Extracts text from each page of a multi-page PDF and avoids duplicates.\"\"\"\n",
        "    doc = fitz.open(pdf_path)\n",
        "    bill_images = []\n",
        "    extracted_texts = set()  # Store text content to check duplicates within the PDF\n",
        "\n",
        "    for page_num in range(len(doc)):\n",
        "        pix = doc[page_num].get_pixmap()\n",
        "        img = Image.frombytes(\"RGB\", [pix.width, pix.height], pix.samples)\n",
        "        img_path = f\"bill_page_{page_num + 1}.jpg\"\n",
        "        img.save(img_path)\n",
        "        bill_images.append(img_path)\n",
        "\n",
        "        # Extract text and check for duplicates\n",
        "        text = pytesseract.image_to_string(img)\n",
        "        bill_hash = generate_hash(text)\n",
        "\n",
        "        if bill_hash in extracted_texts:\n",
        "            print(f\"⚠️ Duplicate bill detected in PDF: Page {page_num + 1}, Skipping...\")\n",
        "        else:\n",
        "            extracted_texts.add(bill_hash)  # Add to in-memory set\n",
        "\n",
        "    return bill_images, extracted_texts  # Returns images & unique bill hashes from PDF\n"
      ],
      "metadata": {
        "id": "TrXXL5s4VKsO"
      },
      "execution_count": 94,
      "outputs": []
    },
    {
      "cell_type": "code",
      "source": [
        "\n",
        "def store_bill_from_pdf(img_path, extracted_texts):\n",
        "    \"\"\"Stores a bill if it is not a duplicate.\"\"\"\n",
        "    conn = sqlite3.connect(\"bills.db\")\n",
        "    cursor = conn.cursor()\n",
        "    text = pytesseract.image_to_string(Image.open(img_path))\n",
        "    bill_hash = generate_hash(text)\n",
        "\n",
        "    # Check if the bill already exists\n",
        "    cursor.execute(\"SELECT * FROM bills WHERE hash=?\", (bill_hash,))\n",
        "    existing_bill = cursor.fetchone()\n",
        "    class_bill=classify_bill(text)\n",
        "    if class_bill=='Business':\n",
        "        if bill_hash in extracted_texts:\n",
        "            print(f\"⚠️ Skipping duplicate bill detected: {img_path}\")\n",
        "            return\n",
        "        if existing_bill:\n",
        "            print(\"⚠ Duplicate bill detected! This bill is already submitted.\")\n",
        "            return\n",
        "        else:\n",
        "            cursor.execute(\"INSERT INTO bills (hash, extracted_text, date) VALUES (?, ?, ?)\", (bill_hash, extracted_text, date))\n",
        "            conn.commit()\n",
        "            print(\"✅ Bill stored successfully!\")\n",
        "    conn.close()"
      ],
      "metadata": {
        "id": "GOm-0K6-eWF0"
      },
      "execution_count": 107,
      "outputs": []
    },
    {
      "cell_type": "code",
      "source": [
        "def process_multi_bills(pdf_path):\n",
        "    bill_images, extracted_texts = extract_text_from_pdf(pdf_path)\n",
        "\n",
        "    for img_path in bill_images:\n",
        "        store_bill_from_pdf(img_path, extracted_texts)"
      ],
      "metadata": {
        "id": "u7je0zf_XzFC"
      },
      "execution_count": 96,
      "outputs": []
    },
    {
      "cell_type": "code",
      "source": [
        "\n",
        "create_database()\n",
        "\n",
        "image_path = input(\"Enter file path :\") # Change this to your uploaded image path\n",
        "if image_path.lower().endswith(\".pdf\"):\n",
        "    process_multi_bills(image_path)\n",
        "else:\n",
        "    date = input(\"Enter the date (DD/MM/YYYY): \")\n",
        "    store_bill(image_path, date)\n"
      ],
      "metadata": {
        "id": "T8fNH5M18i1B",
        "colab": {
          "base_uri": "https://localhost:8080/"
        },
        "outputId": "4bcd0532-5cae-4ce1-8e0c-2f7b95a2dae6"
      },
      "execution_count": 114,
      "outputs": [
        {
          "output_type": "stream",
          "name": "stdout",
          "text": [
            "Enter file path :hu2.pdf\n",
            "⚠ Duplicate bill detected! This bill is already submitted.\n",
            "⚠ Duplicate bill detected! This bill is already submitted.\n",
            "⚠ Duplicate bill detected! This bill is already submitted.\n"
          ]
        }
      ]
    }
  ]
}